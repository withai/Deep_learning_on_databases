{
 "cells": [
  {
   "cell_type": "code",
   "execution_count": 1,
   "metadata": {
    "collapsed": false,
    "deletable": true,
    "editable": true
   },
   "outputs": [],
   "source": [
    "# import modules and data\n",
    "\n",
    "#import tensorflow as tf\n",
    "from tensorflow.examples.tutorials.mnist import input_data\n",
    "import numpy as np\n",
    "import matplotlib.pyplot as plt\n",
    "from six.moves import cPickle as pickle\n",
    "\n",
    "%matplotlib inline"
   ]
  },
  {
   "cell_type": "code",
   "execution_count": 2,
   "metadata": {
    "collapsed": false,
    "deletable": true,
    "editable": true
   },
   "outputs": [
    {
     "name": "stdout",
     "output_type": "stream",
     "text": [
      "Extracting train-images-idx3-ubyte.gz\n",
      "Extracting train-labels-idx1-ubyte.gz\n",
      "Extracting t10k-images-idx3-ubyte.gz\n",
      "Extracting t10k-labels-idx1-ubyte.gz\n"
     ]
    }
   ],
   "source": [
    "# download and extract data from mnist database\n",
    "# one hot classifies the data ex : for \"1\" [1,0,0,0,0,0,0,0,0,0]\n",
    "\n",
    "mnist = input_data.read_data_sets('', one_hot = True)"
   ]
  },
  {
   "cell_type": "code",
   "execution_count": 3,
   "metadata": {
    "collapsed": false,
    "deletable": true,
    "editable": true
   },
   "outputs": [],
   "source": [
    "empty = np.zeros((28, 28), dtype = np.float32)\n",
    "empty_label = np.zeros(10)\n",
    "possible_elements = [5, 4, 3, 2, 1]\n",
    "\n",
    "concatenated_images = []\n",
    "concatenated_labels = []\n",
    "concatenated_lengths = []\n",
    "total_elements = 0\n",
    "elements_count = -1\n",
    "while(total_elements != 55000):\n",
    "    labels_added = 1\n",
    "    elements_count = (elements_count + 1)%5\n",
    "    no_elements = possible_elements[elements_count]\n",
    "    \n",
    "    if(total_elements>54995 and total_elements + no_elements > 55000):\n",
    "        break\n",
    "    batch = mnist.train.next_batch(no_elements)\n",
    "    image = np.split(batch[0][0], 28)\n",
    "    label = [batch[1][0]]\n",
    "    for digit in range(1, no_elements):\n",
    "        image = np.hstack((image, np.split(batch[0][digit], 28)))\n",
    "        label.append(batch[1][digit])\n",
    "        labels_added += 1\n",
    "    for digit in range(5-no_elements):\n",
    "        image = np.hstack((image, empty))\n",
    "        label.append(empty_label)\n",
    "        \n",
    "    length = np.zeros(5)\n",
    "    length[labels_added-1] = 1.0\n",
    "    \n",
    "    concatenated_images.append(image)\n",
    "    concatenated_labels.append(label)\n",
    "    concatenated_lengths.append(length)\n",
    "    total_elements += no_elements\n"
   ]
  },
  {
   "cell_type": "code",
   "execution_count": 4,
   "metadata": {
    "collapsed": false,
    "deletable": true,
    "editable": true
   },
   "outputs": [
    {
     "name": "stdout",
     "output_type": "stream",
     "text": [
      "18332\n",
      "[[ 0.  0.  0. ...,  0.  0.  0.]\n",
      " [ 0.  0.  0. ...,  0.  0.  0.]\n",
      " [ 0.  0.  0. ...,  0.  0.  0.]\n",
      " ..., \n",
      " [ 0.  0.  0. ...,  0.  0.  0.]\n",
      " [ 0.  0.  0. ...,  0.  0.  0.]\n",
      " [ 0.  0.  0. ...,  0.  0.  0.]]\n",
      "[array([ 0.,  0.,  0.,  0.,  0.,  0.,  0.,  1.,  0.,  0.]), array([ 0.,  0.,  0.,  1.,  0.,  0.,  0.,  0.,  0.,  0.]), array([ 0.,  0.,  0.,  0.,  0.,  0.,  1.,  0.,  0.,  0.]), array([ 0.,  0.,  0.,  0.,  1.,  0.,  0.,  0.,  0.,  0.]), array([ 0.,  0.,  0.,  0.,  0.,  0.,  0.,  0.,  0.,  0.])]\n"
     ]
    }
   ],
   "source": [
    "print(len(concatenated_images))\n",
    "print(concatenated_images[11])\n",
    "print(concatenated_labels[11])"
   ]
  },
  {
   "cell_type": "code",
   "execution_count": 5,
   "metadata": {
    "collapsed": false,
    "deletable": true,
    "editable": true
   },
   "outputs": [
    {
     "name": "stdout",
     "output_type": "stream",
     "text": [
      "[array([ 0.,  0.,  0.,  0.,  0.,  0.,  0.,  1.,  0.,  0.]), array([ 0.,  0.,  0.,  1.,  0.,  0.,  0.,  0.,  0.,  0.]), array([ 0.,  0.,  0.,  0.,  0.,  0.,  1.,  0.,  0.,  0.]), array([ 0.,  0.,  0.,  0.,  1.,  0.,  0.,  0.,  0.,  0.]), array([ 0.,  0.,  0.,  0.,  0.,  0.,  0.,  0.,  0.,  0.])]\n",
      "[ 0.  0.  0.  1.  0.]\n"
     ]
    },
    {
     "data": {
      "image/png": "[encoded data removed]",
      "text/plain": [
       "<matplotlib.figure.Figure at 0x7f29ce6ea438>"
      ]
     },
     "metadata": {},
     "output_type": "display_data"
    }
   ],
   "source": [
    "plt.imshow(concatenated_images[11])\n",
    "print(concatenated_labels[11])\n",
    "print(concatenated_lengths[11])"
   ]
  },
  {
   "cell_type": "code",
   "execution_count": 6,
   "metadata": {
    "collapsed": false,
    "deletable": true,
    "editable": true
   },
   "outputs": [],
   "source": [
    "set_images_filename = 'images.pickle'\n",
    "set_labels_filename = 'labels.pickle'\n",
    "set_lengths_filename = 'lengths.pickle'\n",
    "def maybe_pickle(set_filename, data):\n",
    "    try:\n",
    "        with open(set_filename, 'wb') as f:\n",
    "            pickle.dump(data, f, pickle.HIGHEST_PROTOCOL)\n",
    "    except Exception as e:\n",
    "        print('Unable to save data to', set_filename, ':', e)\n",
    "\n",
    "maybe_pickle(set_images_filename, concatenated_images)\n",
    "maybe_pickle(set_labels_filename, concatenated_labels)\n",
    "maybe_pickle(set_lengths_filename, concatenated_lengths)"
   ]
  }
 ],
 "metadata": {
  "kernelspec": {
   "display_name": "Python 3",
   "language": "python",
   "name": "python3"
  },
  "language_info": {
   "codemirror_mode": {
    "name": "ipython",
    "version": 3
   },
   "file_extension": ".py",
   "mimetype": "text/x-python",
   "name": "python",
   "nbconvert_exporter": "python",
   "pygments_lexer": "ipython3",
   "version": "3.5.2"
  }
 },
 "nbformat": 4,
 "nbformat_minor": 2
}
