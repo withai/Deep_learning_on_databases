{
 "cells": [
  {
   "cell_type": "code",
   "execution_count": 1,
   "metadata": {
    "collapsed": true
   },
   "outputs": [],
   "source": [
    "import sys\n",
    "import tensorflow as tf\n",
    "from tensorflow.python.tools import freeze_graph\n",
    "from tensorflow.python.tools import optimize_for_inference_lib\n",
    "\n",
    "\n",
    "MODEL_NAME = 'SVHN'"
   ]
  },
  {
   "cell_type": "code",
   "execution_count": null,
   "metadata": {
    "collapsed": true
   },
   "outputs": [],
   "source": [
    "# Freeze the graph\n",
    "\n",
    "input_graph_path = '/home/yashwanth/Home/TF-pro/udacity-DL/android-proj/SVHN/saver/SVHN.pbtxt'\n",
    "checkpoint_path = '/home/yashwanth/Home/TF-pro/udacity-DL/android-proj/SVHN/saver/SVHN.ckpt'\n",
    "input_saver_def_path = \"\"\n",
    "input_binary = False\n",
    "output_node_names = \"O\"\n",
    "restore_op_name = \"save/restore_all\"\n",
    "filename_tensor_name = \"save/Const:0\"\n",
    "output_frozen_graph_name = 'frozen_'+MODEL_NAME+'.pb'\n",
    "output_optimized_graph_name = 'optimized_'+MODEL_NAME+'.pb'\n",
    "clear_devices = True\n",
    "\n",
    "\n",
    "freeze_graph.freeze_graph(input_graph_path, input_saver_def_path,\n",
    "                          input_binary, checkpoint_path, output_node_names,\n",
    "                          restore_op_name, filename_tensor_name,\n",
    "                          output_frozen_graph_name, clear_devices, \"\")\n"
   ]
  },
  {
   "cell_type": "code",
   "execution_count": null,
   "metadata": {
    "collapsed": true
   },
   "outputs": [],
   "source": [
    "# Optimize for inference\n",
    "\n",
    "input_graph_def = tf.GraphDef()\n",
    "with tf.gfile.Open(output_frozen_graph_name, \"r\") as f:\n",
    "    data = f.read()\n",
    "    input_graph_def.ParseFromString(data)\n",
    "\n",
    "output_graph_def = optimize_for_inference_lib.optimize_for_inference(\n",
    "        input_graph_def,\n",
    "        [\"I\"], # an array of the input node(s)\n",
    "        [\"O\"], # an array of output nodes\n",
    "        tf.float32.as_datatype_enum)\n",
    "\n",
    "# Save the optimized graph\n",
    "\n",
    "f = tf.gfile.FastGFile(output_optimized_graph_name, \"w\")\n",
    "f.write(output_graph_def.SerializeToString())\n",
    "\n",
    "# tf.train.write_graph(output_graph_def, './', output_optimized_graph_name)                    "
   ]
  }
 ],
 "metadata": {
  "kernelspec": {
   "display_name": "Python 3",
   "language": "python",
   "name": "python3"
  },
  "language_info": {
   "codemirror_mode": {
    "name": "ipython",
    "version": 3
   },
   "file_extension": ".py",
   "mimetype": "text/x-python",
   "name": "python",
   "nbconvert_exporter": "python",
   "pygments_lexer": "ipython3",
   "version": "3.5.2"
  }
 },
 "nbformat": 4,
 "nbformat_minor": 2
}
